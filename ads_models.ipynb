{
 "cells": [
  {
   "cell_type": "code",
   "execution_count": null,
   "metadata": {
    "ExecuteTime": {
     "start_time": "2019-03-16T13:44:06.977Z"
    },
    "collapsed": true
   },
   "outputs": [],
   "source": [
    "import numpy as np\n",
    "import pandas as pd\n",
    "\n",
    "import matplotlib.pyplot as plt\n",
    "plt.style.use('ggplot')\n",
    "import seaborn as sns\n",
    "sns.set_style('whitegrid')\n",
    "%matplotlib inline\n",
    "import missingno as msno\n",
    "import warnings\n",
    "import itertools\n",
    "from sklearn.preprocessing import StandardScaler\n",
    "from sklearn.feature_selection import RFE\n",
    "from sklearn.linear_model import LogisticRegression\n",
    "from sklearn.ensemble import RandomForestClassifier\n",
    "from imblearn.over_sampling import SMOTE\n",
    "from sklearn.linear_model import LogisticRegression\n",
    "from sklearn.metrics import roc_auc_score\n",
    "from sklearn.model_selection import GridSearchCV\n",
    "from sklearn.model_selection import train_test_split\n",
    "from sklearn.metrics import accuracy_score\n",
    "from sklearn.metrics import classification_report\n",
    "from sklearn.metrics import confusion_matrix\n",
    "from sklearn import svm\n",
    "from sklearn.linear_model import SGDClassifier\n",
    "warnings.filterwarnings('ignore')\n",
    "pd.set_option('display.float_format', lambda x: '%.5f' % x)"
   ]
  },
  {
   "cell_type": "code",
   "execution_count": 10,
   "metadata": {
    "ExecuteTime": {
     "end_time": "2019-03-16T12:41:22.796194Z",
     "start_time": "2019-03-16T12:41:22.611823Z"
    }
   },
   "outputs": [
    {
     "data": {
      "text/plain": [
       "int64      10\n",
       "float64     5\n",
       "dtype: int64"
      ]
     },
     "execution_count": 10,
     "metadata": {},
     "output_type": "execute_result"
    }
   ],
   "source": [
    "data = pd.read_csv('data/ads_train.csv') \n",
    "data.dtypes.value_counts()"
   ]
  },
  {
   "cell_type": "code",
   "execution_count": 11,
   "metadata": {
    "ExecuteTime": {
     "end_time": "2019-03-16T12:41:23.718841Z",
     "start_time": "2019-03-16T12:41:23.707627Z"
    }
   },
   "outputs": [],
   "source": [
    "new_col = ['isbuyer', 'visit_freq', 'buy_interval', 'sv_interval',\n",
    "       'expected_time_buy', 'expected_time_visit', 'last_buy', 'last_visit',\n",
    "       'multiple_buy', 'multiple_visit', 'uniq_urls', 'num_checkins', 'y_buy']\n",
    "data = data[new_col]"
   ]
  },
  {
   "cell_type": "code",
   "execution_count": 12,
   "metadata": {
    "ExecuteTime": {
     "end_time": "2019-03-16T12:41:24.728106Z",
     "start_time": "2019-03-16T12:41:24.693831Z"
    }
   },
   "outputs": [],
   "source": [
    "col = data.select_dtypes(include=['int64','float64']).columns\n",
    "col = col.drop('y_buy')"
   ]
  },
  {
   "cell_type": "code",
   "execution_count": 13,
   "metadata": {
    "ExecuteTime": {
     "end_time": "2019-03-16T12:41:33.237347Z",
     "start_time": "2019-03-16T12:41:33.232535Z"
    },
    "collapsed": true
   },
   "outputs": [],
   "source": [
    "data_ml_df = data"
   ]
  },
  {
   "cell_type": "code",
   "execution_count": 15,
   "metadata": {
    "ExecuteTime": {
     "end_time": "2019-03-16T12:41:55.087159Z",
     "start_time": "2019-03-16T12:41:54.810183Z"
    }
   },
   "outputs": [
    {
     "data": {
      "text/html": [
       "<div>\n",
       "<style scoped>\n",
       "    .dataframe tbody tr th:only-of-type {\n",
       "        vertical-align: middle;\n",
       "    }\n",
       "\n",
       "    .dataframe tbody tr th {\n",
       "        vertical-align: top;\n",
       "    }\n",
       "\n",
       "    .dataframe thead th {\n",
       "        text-align: right;\n",
       "    }\n",
       "</style>\n",
       "<table border=\"1\" class=\"dataframe\">\n",
       "  <thead>\n",
       "    <tr style=\"text-align: right;\">\n",
       "      <th></th>\n",
       "      <th>isbuyer</th>\n",
       "      <th>visit_freq</th>\n",
       "      <th>buy_interval</th>\n",
       "      <th>sv_interval</th>\n",
       "      <th>expected_time_buy</th>\n",
       "      <th>expected_time_visit</th>\n",
       "      <th>last_buy</th>\n",
       "      <th>last_visit</th>\n",
       "      <th>multiple_buy</th>\n",
       "      <th>multiple_visit</th>\n",
       "      <th>uniq_urls</th>\n",
       "      <th>num_checkins</th>\n",
       "      <th>y_buy</th>\n",
       "    </tr>\n",
       "  </thead>\n",
       "  <tbody>\n",
       "    <tr>\n",
       "      <th>0</th>\n",
       "      <td>-0.21042</td>\n",
       "      <td>-0.28972</td>\n",
       "      <td>-0.05120</td>\n",
       "      <td>-0.33071</td>\n",
       "      <td>0.03645</td>\n",
       "      <td>0.31880</td>\n",
       "      <td>0.77344</td>\n",
       "      <td>0.77344</td>\n",
       "      <td>-0.07748</td>\n",
       "      <td>-0.61978</td>\n",
       "      <td>1.33040</td>\n",
       "      <td>1.09313</td>\n",
       "      <td>0</td>\n",
       "    </tr>\n",
       "    <tr>\n",
       "      <th>1</th>\n",
       "      <td>-0.21042</td>\n",
       "      <td>-0.28972</td>\n",
       "      <td>-0.05120</td>\n",
       "      <td>-0.33071</td>\n",
       "      <td>0.03645</td>\n",
       "      <td>0.31880</td>\n",
       "      <td>-1.09737</td>\n",
       "      <td>-1.09737</td>\n",
       "      <td>-0.07748</td>\n",
       "      <td>-0.61978</td>\n",
       "      <td>1.02365</td>\n",
       "      <td>-0.14369</td>\n",
       "      <td>0</td>\n",
       "    </tr>\n",
       "    <tr>\n",
       "      <th>2</th>\n",
       "      <td>-0.21042</td>\n",
       "      <td>0.04398</td>\n",
       "      <td>-0.05120</td>\n",
       "      <td>-0.30250</td>\n",
       "      <td>0.03645</td>\n",
       "      <td>-2.86235</td>\n",
       "      <td>0.67990</td>\n",
       "      <td>0.67990</td>\n",
       "      <td>-0.07748</td>\n",
       "      <td>1.61346</td>\n",
       "      <td>0.26486</td>\n",
       "      <td>-0.28128</td>\n",
       "      <td>0</td>\n",
       "    </tr>\n",
       "    <tr>\n",
       "      <th>3</th>\n",
       "      <td>-0.21042</td>\n",
       "      <td>-0.28972</td>\n",
       "      <td>-0.05120</td>\n",
       "      <td>-0.33071</td>\n",
       "      <td>0.03645</td>\n",
       "      <td>0.31880</td>\n",
       "      <td>-0.42388</td>\n",
       "      <td>-0.42388</td>\n",
       "      <td>-0.07748</td>\n",
       "      <td>-0.61978</td>\n",
       "      <td>-1.12358</td>\n",
       "      <td>-0.53549</td>\n",
       "      <td>0</td>\n",
       "    </tr>\n",
       "    <tr>\n",
       "      <th>4</th>\n",
       "      <td>-0.21042</td>\n",
       "      <td>0.37769</td>\n",
       "      <td>-0.05120</td>\n",
       "      <td>2.23494</td>\n",
       "      <td>0.03645</td>\n",
       "      <td>-0.75505</td>\n",
       "      <td>-0.01230</td>\n",
       "      <td>-0.01230</td>\n",
       "      <td>-0.07748</td>\n",
       "      <td>1.61346</td>\n",
       "      <td>0.21642</td>\n",
       "      <td>-0.33104</td>\n",
       "      <td>0</td>\n",
       "    </tr>\n",
       "  </tbody>\n",
       "</table>\n",
       "</div>"
      ],
      "text/plain": [
       "   isbuyer  visit_freq  buy_interval  sv_interval  expected_time_buy  \\\n",
       "0 -0.21042    -0.28972      -0.05120     -0.33071            0.03645   \n",
       "1 -0.21042    -0.28972      -0.05120     -0.33071            0.03645   \n",
       "2 -0.21042     0.04398      -0.05120     -0.30250            0.03645   \n",
       "3 -0.21042    -0.28972      -0.05120     -0.33071            0.03645   \n",
       "4 -0.21042     0.37769      -0.05120      2.23494            0.03645   \n",
       "\n",
       "   expected_time_visit  last_buy  last_visit  multiple_buy  multiple_visit  \\\n",
       "0              0.31880   0.77344     0.77344      -0.07748        -0.61978   \n",
       "1              0.31880  -1.09737    -1.09737      -0.07748        -0.61978   \n",
       "2             -2.86235   0.67990     0.67990      -0.07748         1.61346   \n",
       "3              0.31880  -0.42388    -0.42388      -0.07748        -0.61978   \n",
       "4             -0.75505  -0.01230    -0.01230      -0.07748         1.61346   \n",
       "\n",
       "   uniq_urls  num_checkins  y_buy  \n",
       "0    1.33040       1.09313      0  \n",
       "1    1.02365      -0.14369      0  \n",
       "2    0.26486      -0.28128      0  \n",
       "3   -1.12358      -0.53549      0  \n",
       "4    0.21642      -0.33104      0  "
      ]
     },
     "execution_count": 15,
     "metadata": {},
     "output_type": "execute_result"
    }
   ],
   "source": [
    "sc = StandardScaler()\n",
    "data_ml_df[col] = sc.fit_transform(data_ml_df[col])\n",
    "data_ml_df.head()"
   ]
  },
  {
   "cell_type": "code",
   "execution_count": 16,
   "metadata": {
    "ExecuteTime": {
     "end_time": "2019-03-16T12:42:12.614363Z",
     "start_time": "2019-03-16T12:42:12.596132Z"
    }
   },
   "outputs": [
    {
     "data": {
      "text/plain": [
       "12"
      ]
     },
     "execution_count": 16,
     "metadata": {},
     "output_type": "execute_result"
    }
   ],
   "source": [
    "x_feature = list(data_ml_df.columns)\n",
    "x_feature.remove('y_buy')\n",
    "x_val = data_ml_df[x_feature]\n",
    "y_val = data_ml_df['y_buy']\n"
   ]
  },
  {
   "cell_type": "code",
   "execution_count": 18,
   "metadata": {
    "ExecuteTime": {
     "end_time": "2019-03-16T12:43:05.217702Z",
     "start_time": "2019-03-16T12:43:04.445295Z"
    },
    "collapsed": true
   },
   "outputs": [],
   "source": [
    "model = LogisticRegression()\n",
    "rfe = RFE(model, 8)\n",
    "rfe = rfe.fit(x_val, y_val)"
   ]
  },
  {
   "cell_type": "code",
   "execution_count": 19,
   "metadata": {
    "ExecuteTime": {
     "end_time": "2019-03-16T12:43:14.894118Z",
     "start_time": "2019-03-16T12:43:14.885308Z"
    }
   },
   "outputs": [
    {
     "data": {
      "text/plain": [
       "Index(['isbuyer', 'sv_interval', 'expected_time_visit', 'last_buy',\n",
       "       'last_visit', 'multiple_buy', 'multiple_visit', 'uniq_urls'],\n",
       "      dtype='object')"
      ]
     },
     "execution_count": 19,
     "metadata": {},
     "output_type": "execute_result"
    }
   ],
   "source": [
    "col_filter = x_val.columns[rfe.support_]\n",
    "col_filter"
   ]
  },
  {
   "cell_type": "code",
   "execution_count": 20,
   "metadata": {
    "ExecuteTime": {
     "end_time": "2019-03-16T12:44:06.587943Z",
     "start_time": "2019-03-16T12:44:06.560657Z"
    }
   },
   "outputs": [
    {
     "name": "stdout",
     "output_type": "stream",
     "text": [
      "样本个数：38209; 正样本占99.55%; 负样本占0.45%\n",
      "特征维数： 12\n"
     ]
    }
   ],
   "source": [
    "X = data_ml_df[col]\n",
    "y = data_ml_df['y_buy']\n",
    "\n",
    "n_sample = y.shape[0]\n",
    "n_pos_sample = y[y == 0].shape[0]\n",
    "n_neg_sample = y[y == 1].shape[0]\n",
    "print('样本个数：{}; 正样本占{:.2%}; 负样本占{:.2%}'.format(n_sample,\n",
    "                                                   n_pos_sample / n_sample,\n",
    "                                                   n_neg_sample / n_sample))\n",
    "print('特征维数：', X.shape[1])"
   ]
  },
  {
   "cell_type": "code",
   "execution_count": 22,
   "metadata": {
    "ExecuteTime": {
     "end_time": "2019-03-16T12:44:29.475610Z",
     "start_time": "2019-03-16T12:44:29.019472Z"
    }
   },
   "outputs": [
    {
     "name": "stdout",
     "output_type": "stream",
     "text": [
      "通过SMOTE方法平衡正负样本后\n",
      "样本个数：76074; 正样本占50.00%; 负样本占50.00%\n"
     ]
    }
   ],
   "source": [
    "sm = SMOTE(random_state=42)\n",
    "X_source, y_source = X, y\n",
    "X, y = sm.fit_sample(X, y)\n",
    "print('通过SMOTE方法平衡正负样本后')\n",
    "n_sample = y.shape[0]\n",
    "n_pos_sample = y[y == 0].shape[0]\n",
    "n_neg_sample = y[y == 1].shape[0]\n",
    "print('样本个数：{}; 正样本占{:.2%}; 负样本占{:.2%}'.format(n_sample,\n",
    "                                                   n_pos_sample / n_sample,\n",
    "                                                   n_neg_sample / n_sample))"
   ]
  },
  {
   "cell_type": "code",
   "execution_count": 60,
   "metadata": {
    "ExecuteTime": {
     "end_time": "2019-03-16T13:14:02.419412Z",
     "start_time": "2019-03-16T13:14:02.373888Z"
    },
    "collapsed": true
   },
   "outputs": [],
   "source": [
    "def plot_confusion_matrix(cm, classes,\n",
    "                          title='Confusion matrix',\n",
    "                          cmap=plt.cm.Blues):\n",
    "    \"\"\"\n",
    "    This function prints and plots the confusion matrix.\n",
    "    \"\"\"\n",
    "    plt.imshow(cm, interpolation='nearest', cmap=cmap)\n",
    "    plt.title(title)\n",
    "    plt.colorbar()\n",
    "    tick_marks = np.arange(len(classes))\n",
    "    plt.xticks(tick_marks, classes, rotation=0)\n",
    "    plt.yticks(tick_marks, classes)\n",
    "\n",
    "    thresh = cm.max() / 2.\n",
    "    for i, j in itertools.product(range(cm.shape[0]), range(cm.shape[1])):\n",
    "        plt.text(j, i, cm[i, j],\n",
    "                 horizontalalignment=\"center\",\n",
    "                 color=\"white\" if cm[i, j] > thresh else \"black\")\n",
    "\n",
    "    plt.tight_layout()\n",
    "    plt.ylabel('True label')\n",
    "    plt.xlabel('Predicted label')"
   ]
  },
  {
   "cell_type": "code",
   "execution_count": 61,
   "metadata": {
    "ExecuteTime": {
     "end_time": "2019-03-16T13:15:21.683483Z",
     "start_time": "2019-03-16T13:15:21.627610Z"
    },
    "collapsed": true
   },
   "outputs": [],
   "source": [
    "def different_thrsholds(X, y, thresholds, model):\n",
    "    y_pred_proba = model.predict_proba(X)  #predict_prob 获得一个概率值\n",
    "\n",
    "    plt.figure(figsize=(15,10))\n",
    "\n",
    "    j = 1\n",
    "    for i in thresholds:\n",
    "        y_test_predictions_high_recall = y_pred_proba[:,1] > i#预测出来的概率值是否大于阈值 \n",
    "\n",
    "        plt.subplot(3,3,j)\n",
    "        j += 1\n",
    "\n",
    "        # Compute confusion matrix\n",
    "        cnf_matrix = confusion_matrix(y, y_test_predictions_high_recall)\n",
    "        np.set_printoptions(precision=2)\n",
    "\n",
    "        print(\"Recall metric in the testing dataset: \",(cnf_matrix[1,1]/(cnf_matrix[1,0]+cnf_matrix[1,1])))\n",
    "\n",
    "        # Plot non-normalized confusion matrix\n",
    "        class_names = [0,1]\n",
    "        plot_confusion_matrix(cnf_matrix\n",
    "                              , classes=class_names)"
   ]
  },
  {
   "cell_type": "markdown",
   "metadata": {},
   "source": [
    "### 模型训练"
   ]
  },
  {
   "cell_type": "markdown",
   "metadata": {},
   "source": [
    "#### 逻辑回归"
   ]
  },
  {
   "cell_type": "code",
   "execution_count": 58,
   "metadata": {
    "ExecuteTime": {
     "end_time": "2019-03-16T13:12:16.216416Z",
     "start_time": "2019-03-16T13:11:47.049780Z"
    }
   },
   "outputs": [],
   "source": [
    "# X_train, X_test, y_train, y_test = train_test_split(X, y, test_size = 0.3, random_state = 0) # random_state = 0 每次切分的数据都一样\n",
    "# 构建参数组合\n",
    "param_grid = {'C': [0.01,0.1, 1, 10, 100, 1000,],\n",
    "                            'penalty': [ 'l1', 'l2']}\n",
    "\n",
    "lr_grid_search = GridSearchCV(LogisticRegression(),  param_grid, cv=10) # 确定模型LogisticRegression，和参数组合param_grid ，cv指定5折\n",
    "cl2 = lr_grid_search.fit(X, y)"
   ]
  },
  {
   "cell_type": "code",
   "execution_count": 36,
   "metadata": {
    "ExecuteTime": {
     "end_time": "2019-03-16T12:52:59.799924Z",
     "start_time": "2019-03-16T12:52:59.728608Z"
    }
   },
   "outputs": [
    {
     "name": "stdout",
     "output_type": "stream",
     "text": [
      "Test set accuracy score: 0.85066\n",
      "              precision    recall  f1-score   support\n",
      "\n",
      "           0       0.85      1.00      0.92     32433\n",
      "           1       0.70      0.02      0.04      5776\n",
      "\n",
      "   micro avg       0.85      0.85      0.85     38209\n",
      "   macro avg       0.78      0.51      0.48     38209\n",
      "weighted avg       0.83      0.85      0.79     38209\n",
      "\n"
     ]
    }
   ],
   "source": [
    "y_pred = lr_grid_search.predict(x_val)\n",
    "print(\"Test set accuracy score: {:.5f}\".format(accuracy_score(y_val, y_pred)))\n",
    "print(classification_report(y_pred, y_val))"
   ]
  },
  {
   "cell_type": "code",
   "execution_count": 59,
   "metadata": {
    "ExecuteTime": {
     "end_time": "2019-03-16T13:12:19.985417Z",
     "start_time": "2019-03-16T13:12:16.220100Z"
    },
    "collapsed": true
   },
   "outputs": [
    {
     "name": "stdout",
     "output_type": "stream",
     "text": [
      "Recall metric in the testing dataset:  0.9709302325581395\n",
      "Recall metric in the testing dataset:  0.9302325581395349\n",
      "Recall metric in the testing dataset:  0.9186046511627907\n",
      "Recall metric in the testing dataset:  0.8372093023255814\n",
      "Recall metric in the testing dataset:  0.7034883720930233\n",
      "Recall metric in the testing dataset:  0.6686046511627907\n",
      "Recall metric in the testing dataset:  0.622093023255814\n",
      "Recall metric in the testing dataset:  0.4476744186046512\n",
      "Recall metric in the testing dataset:  0.28488372093023256\n"
     ]
    },
    {
     "data": {
      "image/png": "[encoded data removed]",
      "text/plain": [
       "<Figure size 1080x720 with 18 Axes>"
      ]
     },
     "metadata": {},
     "output_type": "display_data"
    }
   ],
   "source": [
    "thresholds = [0.1,0.2,0.3,0.4,0.5,0.6,0.7,0.8,0.9]\n",
    "different_thrsholds(data_ml_df[col], data_ml_df['y_buy'], thresholds, model=lr_grid_search)"
   ]
  },
  {
   "cell_type": "markdown",
   "metadata": {},
   "source": [
    "#### SGDClassifier模型"
   ]
  },
  {
   "cell_type": "code",
   "execution_count": null,
   "metadata": {
    "ExecuteTime": {
     "start_time": "2019-03-16T13:52:12.343Z"
    },
    "collapsed": true
   },
   "outputs": [],
   "source": [
    "param_grid = {'loss': ['hinge', 'log', 'modified_huber', 'squared_hinge', 'perceptron'],\n",
    "              'penalty': ['l2', 'l1', 'elasticnet'],\n",
    "             'alpha ': [0.1, 0.01, 0.001, 0.0001],\n",
    "             'max_iter':[5, 10, 20],\n",
    "             'n_jobs':[-1],\n",
    "             'learning_rate': ['constant', 'optimal', 'invscaling',\n",
    "                              'adaptive']}\n",
    "sgd_grid_search = GridSearchCV(SGDClassifier(),  param_grid, cv=10) # 确定模型LogisticRegression，和参数组合param_grid ，cv指定5折\n",
    "cl2 = sgd_grid_search.fit(X, y)"
   ]
  },
  {
   "cell_type": "code",
   "execution_count": null,
   "metadata": {
    "ExecuteTime": {
     "start_time": "2019-03-16T13:52:38.683Z"
    },
    "collapsed": true
   },
   "outputs": [],
   "source": [
    "y_pred = sgd_grid_search.predict(x_val)\n",
    "print(\"Test set accuracy score: {:.5f}\".format(accuracy_score(y_val, y_pred)))\n",
    "print(classification_report(y_pred, y_val))\n",
    "thresholds = [0.1,0.2,0.3,0.4,0.5,0.6,0.7,0.8,0.9]\n",
    "different_thrsholds(data_ml_df[col], data_ml_df['y_buy'], thresholds, model=sgd_grid_search)"
   ]
  },
  {
   "cell_type": "code",
   "execution_count": null,
   "metadata": {
    "collapsed": true
   },
   "outputs": [],
   "source": []
  }
 ],
 "metadata": {
  "kernelspec": {
   "display_name": "Python 3",
   "language": "python",
   "name": "python3"
  },
  "language_info": {
   "codemirror_mode": {
    "name": "ipython",
    "version": 3
   },
   "file_extension": ".py",
   "mimetype": "text/x-python",
   "name": "python",
   "nbconvert_exporter": "python",
   "pygments_lexer": "ipython3",
   "version": "3.6.2"
  },
  "toc": {
   "base_numbering": 1,
   "nav_menu": {},
   "number_sections": true,
   "sideBar": true,
   "skip_h1_title": false,
   "title_cell": "Table of Contents",
   "title_sidebar": "Contents",
   "toc_cell": false,
   "toc_position": {},
   "toc_section_display": true,
   "toc_window_display": false
  }
 },
 "nbformat": 4,
 "nbformat_minor": 2
}
